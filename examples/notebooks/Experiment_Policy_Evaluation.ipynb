{
 "cells": [
  {
   "cell_type": "code",
   "execution_count": 1,
   "id": "16433ca9-aeed-46de-a809-d064d220a2f3",
   "metadata": {},
   "outputs": [],
   "source": [
    "import numpy as np\n",
    "import torch\n",
    "import pandas as pd\n",
    "import numpy as np"
   ]
  },
  {
   "cell_type": "code",
   "execution_count": 2,
   "id": "a67d678e-0d10-49ce-bb57-73cf322de723",
   "metadata": {},
   "outputs": [],
   "source": [
    "from matplotlib import pyplot as plt\n",
    "plt.style.use(\"seaborn-whitegrid\")\n",
    "from matplotlib.cm import tab10"
   ]
  },
  {
   "cell_type": "code",
   "execution_count": 3,
   "id": "ba28601d-7dcb-43f5-b27a-afab41c648cf",
   "metadata": {},
   "outputs": [],
   "source": [
    "from tqdm.auto import tqdm"
   ]
  },
  {
   "cell_type": "code",
   "execution_count": 4,
   "id": "4b0180e1-8b2a-492b-84d8-1ee169552f83",
   "metadata": {},
   "outputs": [],
   "source": [
    "import kcmc\n",
    "from kcmc.estimators import confounding_robust_estimator, hajek, ipw\n",
    "from kcmc.experiment_policy_evaluation import run_policy_evaluation_experiment\n",
    "\n",
    "#from kcmc.data_continuous import evaluate_policy, generate_data, estimate_p_t"
   ]
  },
  {
   "cell_type": "markdown",
   "id": "d3d992fa-e3aa-4508-9d51-b252770febfb",
   "metadata": {
    "tags": []
   },
   "source": [
    "# Binary Synthetic Data"
   ]
  },
  {
   "cell_type": "code",
   "execution_count": 95,
   "id": "f9d12538-177a-4ca5-892a-21588b123fd2",
   "metadata": {},
   "outputs": [],
   "source": [
    "from kcmc.data_binary import evaluate_policy, generate_data, estimate_p_t"
   ]
  },
  {
   "cell_type": "code",
   "execution_count": 96,
   "id": "b14c0b72-5f51-4cfe-b369-81009ea78236",
   "metadata": {},
   "outputs": [],
   "source": [
    "beta_e_x = np.asarray([0, .75, -.5, 0, -1])\n",
    "\n",
    "def toy_policy(X, T):\n",
    "    n = X.shape[0]\n",
    "    T = torch.as_tensor(T)\n",
    "    z = torch.as_tensor(X) @ torch.as_tensor(beta_e_x)\n",
    "    e_x = torch.exp(z) / (1 + torch.exp(z))\n",
    "    return (1. - T) * e_x + T * (1. - e_x)"
   ]
  },
  {
   "cell_type": "code",
   "execution_count": 101,
   "id": "9a9ed371-ac91-480a-99fa-1770d44c0184",
   "metadata": {},
   "outputs": [],
   "source": [
    "# Guessing kernel with approximate solution\n",
    "Y, T, X, _, _, _ = generate_data(1000)\n",
    "p_t = estimate_p_t(X, T)\n",
    "_, w_guess = confounding_robust_estimator(\n",
    "    Y, T, X, p_t, toy_policy, Gamma=1.5,\n",
    "    hajek_const=True, tan_box_const=True, \n",
    "    return_w=True, normalize_p_t=True, \n",
    ")\n",
    "e_guess = p_t * w_guess - 1\n",
    "gp_kernel = kcmc.estimators.fit_gp_kernel(e_guess, T, X)\n",
    "kernel = gp_kernel.k2"
   ]
  },
  {
   "cell_type": "code",
   "execution_count": 102,
   "id": "e5316524-dc8c-457a-8e21-70e448c2758d",
   "metadata": {},
   "outputs": [
    {
     "data": {
      "text/plain": [
       "tensor(3.3249, dtype=torch.float64)"
      ]
     },
     "execution_count": 102,
     "metadata": {},
     "output_type": "execute_result"
    }
   ],
   "source": [
    "_"
   ]
  },
  {
   "cell_type": "markdown",
   "id": "4e7783a5-35c3-4342-8421-054850ae7bed",
   "metadata": {},
   "source": [
    "### Experiment of changing sensitivity parameter $\\Gamma$ "
   ]
  },
  {
   "cell_type": "code",
   "execution_count": 44,
   "id": "5293ffeb-42e4-487c-bbdc-bd3779df2ce3",
   "metadata": {},
   "outputs": [],
   "source": [
    "def update_base_method(**new_params):\n",
    "    ret = kcmc.experiment_policy_evaluation.EXAMPLE_PARAMS.copy()\n",
    "    ret.update(new_params)\n",
    "    return ret\n",
    "\n",
    "grid_methods = {\n",
    "    'GP_KCMC': update_base_method(\n",
    "        hajek_const=True,\n",
    "        normalize_p_t=True,\n",
    "        tan_box_const=True,\n",
    "        kernel=kernel,\n",
    "        kernel_const=True,\n",
    "        D=100,\n",
    "    ),\n",
    "    'hard_KCMC': update_base_method(\n",
    "        hajek_const=True,\n",
    "        normalize_p_t=True,\n",
    "        tan_box_const=True,\n",
    "        kernel=kernel,\n",
    "        kernel_const=True,\n",
    "        hard_kernel_const=True,\n",
    "        D=100,\n",
    "    ),\n",
    "    'quantile': update_base_method(\n",
    "        hajek_const=True,\n",
    "        normalize_p_t=True,\n",
    "        tan_box_const=True,\n",
    "        quantile_const=True,\n",
    "    ),\n",
    "    'ZSB': update_base_method(\n",
    "        hajek_const=True,\n",
    "        normalize_p_t=True,\n",
    "        tan_box_const=True,\n",
    "    ),\n",
    "}\n",
    "\n",
    "grid_Gamma = [1.0 + 0.01 + 0.1 * i for i in range(11)]"
   ]
  },
  {
   "cell_type": "code",
   "execution_count": 11,
   "id": "d0f93d8a-af84-4127-9af8-bf87ef4cb1af",
   "metadata": {},
   "outputs": [
    {
     "data": {
      "application/vnd.jupyter.widget-view+json": {
       "model_id": "70197a0220ec4a8fb4186069630f880f",
       "version_major": 2,
       "version_minor": 0
      },
      "text/plain": [
       "  0%|          | 0/44 [00:00<?, ?it/s]"
      ]
     },
     "metadata": {},
     "output_type": "display_data"
    }
   ],
   "source": [
    "log_file='logs/policy_evaluation_synthetic_binary_changing_Gamma.csv'\n",
    "\n",
    "pbar = tqdm(total=len(grid_methods) * len(grid_Gamma))\n",
    "for method_name, params in grid_methods.items():\n",
    "    for Gamma in grid_Gamma:\n",
    "        params['Gamma'] = Gamma\n",
    "        run_policy_evaluation_experiment(\n",
    "            log_file, params, toy_policy, data_type='synthetic binary', \n",
    "            n_seeds=10, sample_size=500, log_info=method_name\n",
    "        )\n",
    "        pbar.update(1)\n",
    "pbar.close()"
   ]
  },
  {
   "cell_type": "code",
   "execution_count": 45,
   "id": "b601135b-c2cf-4bac-928f-db5a0dccdaf9",
   "metadata": {},
   "outputs": [],
   "source": [
    "df = pd.read_csv('logs/policy_evaluation_synthetic_binary_changing_Gamma.csv')"
   ]
  },
  {
   "cell_type": "code",
   "execution_count": 46,
   "id": "6f085288-f287-4b3c-b874-4205d1fd62ec",
   "metadata": {},
   "outputs": [
    {
     "data": {
      "text/html": [
       "<div>\n",
       "<style scoped>\n",
       "    .dataframe tbody tr th:only-of-type {\n",
       "        vertical-align: middle;\n",
       "    }\n",
       "\n",
       "    .dataframe tbody tr th {\n",
       "        vertical-align: top;\n",
       "    }\n",
       "\n",
       "    .dataframe thead th {\n",
       "        text-align: right;\n",
       "    }\n",
       "</style>\n",
       "<table border=\"1\" class=\"dataframe\">\n",
       "  <thead>\n",
       "    <tr style=\"text-align: right;\">\n",
       "      <th></th>\n",
       "      <th>log_info</th>\n",
       "      <th>data_type</th>\n",
       "      <th>policy_name</th>\n",
       "      <th>sample_size</th>\n",
       "      <th>seed</th>\n",
       "      <th>lower_bound</th>\n",
       "      <th>upper_bound</th>\n",
       "      <th>D</th>\n",
       "      <th>lambd</th>\n",
       "      <th>gamma</th>\n",
       "      <th>...</th>\n",
       "      <th>hard_kernel_const</th>\n",
       "      <th>normalize_p_t</th>\n",
       "      <th>f_divergence</th>\n",
       "      <th>hajek_const</th>\n",
       "      <th>kernel_const</th>\n",
       "      <th>quantile_const</th>\n",
       "      <th>regressor_const</th>\n",
       "      <th>tan_box_const</th>\n",
       "      <th>lr_box_const</th>\n",
       "      <th>f_const</th>\n",
       "    </tr>\n",
       "  </thead>\n",
       "  <tbody>\n",
       "    <tr>\n",
       "      <th>0</th>\n",
       "      <td>ZSB</td>\n",
       "      <td>synthetic binary</td>\n",
       "      <td>toy_policy</td>\n",
       "      <td>500</td>\n",
       "      <td>0</td>\n",
       "      <td>3.702457</td>\n",
       "      <td>3.724026</td>\n",
       "      <td>200</td>\n",
       "      <td>1.01</td>\n",
       "      <td>0.01</td>\n",
       "      <td>...</td>\n",
       "      <td>False</td>\n",
       "      <td>True</td>\n",
       "      <td>total variation</td>\n",
       "      <td>True</td>\n",
       "      <td>False</td>\n",
       "      <td>False</td>\n",
       "      <td>False</td>\n",
       "      <td>True</td>\n",
       "      <td>False</td>\n",
       "      <td>False</td>\n",
       "    </tr>\n",
       "    <tr>\n",
       "      <th>1</th>\n",
       "      <td>ZSB</td>\n",
       "      <td>synthetic binary</td>\n",
       "      <td>toy_policy</td>\n",
       "      <td>500</td>\n",
       "      <td>1</td>\n",
       "      <td>3.770768</td>\n",
       "      <td>3.796286</td>\n",
       "      <td>200</td>\n",
       "      <td>1.01</td>\n",
       "      <td>0.01</td>\n",
       "      <td>...</td>\n",
       "      <td>False</td>\n",
       "      <td>True</td>\n",
       "      <td>total variation</td>\n",
       "      <td>True</td>\n",
       "      <td>False</td>\n",
       "      <td>False</td>\n",
       "      <td>False</td>\n",
       "      <td>True</td>\n",
       "      <td>False</td>\n",
       "      <td>False</td>\n",
       "    </tr>\n",
       "    <tr>\n",
       "      <th>2</th>\n",
       "      <td>ZSB</td>\n",
       "      <td>synthetic binary</td>\n",
       "      <td>toy_policy</td>\n",
       "      <td>500</td>\n",
       "      <td>2</td>\n",
       "      <td>3.535814</td>\n",
       "      <td>3.557641</td>\n",
       "      <td>200</td>\n",
       "      <td>1.01</td>\n",
       "      <td>0.01</td>\n",
       "      <td>...</td>\n",
       "      <td>False</td>\n",
       "      <td>True</td>\n",
       "      <td>total variation</td>\n",
       "      <td>True</td>\n",
       "      <td>False</td>\n",
       "      <td>False</td>\n",
       "      <td>False</td>\n",
       "      <td>True</td>\n",
       "      <td>False</td>\n",
       "      <td>False</td>\n",
       "    </tr>\n",
       "    <tr>\n",
       "      <th>3</th>\n",
       "      <td>ZSB</td>\n",
       "      <td>synthetic binary</td>\n",
       "      <td>toy_policy</td>\n",
       "      <td>500</td>\n",
       "      <td>3</td>\n",
       "      <td>3.624325</td>\n",
       "      <td>3.640795</td>\n",
       "      <td>200</td>\n",
       "      <td>1.01</td>\n",
       "      <td>0.01</td>\n",
       "      <td>...</td>\n",
       "      <td>False</td>\n",
       "      <td>True</td>\n",
       "      <td>total variation</td>\n",
       "      <td>True</td>\n",
       "      <td>False</td>\n",
       "      <td>False</td>\n",
       "      <td>False</td>\n",
       "      <td>True</td>\n",
       "      <td>False</td>\n",
       "      <td>False</td>\n",
       "    </tr>\n",
       "    <tr>\n",
       "      <th>4</th>\n",
       "      <td>ZSB</td>\n",
       "      <td>synthetic binary</td>\n",
       "      <td>toy_policy</td>\n",
       "      <td>500</td>\n",
       "      <td>4</td>\n",
       "      <td>3.664120</td>\n",
       "      <td>3.686011</td>\n",
       "      <td>200</td>\n",
       "      <td>1.01</td>\n",
       "      <td>0.01</td>\n",
       "      <td>...</td>\n",
       "      <td>False</td>\n",
       "      <td>True</td>\n",
       "      <td>total variation</td>\n",
       "      <td>True</td>\n",
       "      <td>False</td>\n",
       "      <td>False</td>\n",
       "      <td>False</td>\n",
       "      <td>True</td>\n",
       "      <td>False</td>\n",
       "      <td>False</td>\n",
       "    </tr>\n",
       "  </tbody>\n",
       "</table>\n",
       "<p>5 rows × 23 columns</p>\n",
       "</div>"
      ],
      "text/plain": [
       "  log_info         data_type policy_name  sample_size  seed  lower_bound  \\\n",
       "0      ZSB  synthetic binary  toy_policy          500     0     3.702457   \n",
       "1      ZSB  synthetic binary  toy_policy          500     1     3.770768   \n",
       "2      ZSB  synthetic binary  toy_policy          500     2     3.535814   \n",
       "3      ZSB  synthetic binary  toy_policy          500     3     3.624325   \n",
       "4      ZSB  synthetic binary  toy_policy          500     4     3.664120   \n",
       "\n",
       "   upper_bound    D  lambd  gamma  ...  hard_kernel_const  normalize_p_t  \\\n",
       "0     3.724026  200   1.01   0.01  ...              False           True   \n",
       "1     3.796286  200   1.01   0.01  ...              False           True   \n",
       "2     3.557641  200   1.01   0.01  ...              False           True   \n",
       "3     3.640795  200   1.01   0.01  ...              False           True   \n",
       "4     3.686011  200   1.01   0.01  ...              False           True   \n",
       "\n",
       "      f_divergence  hajek_const  kernel_const quantile_const  regressor_const  \\\n",
       "0  total variation         True         False          False            False   \n",
       "1  total variation         True         False          False            False   \n",
       "2  total variation         True         False          False            False   \n",
       "3  total variation         True         False          False            False   \n",
       "4  total variation         True         False          False            False   \n",
       "\n",
       "   tan_box_const  lr_box_const  f_const  \n",
       "0           True         False    False  \n",
       "1           True         False    False  \n",
       "2           True         False    False  \n",
       "3           True         False    False  \n",
       "4           True         False    False  \n",
       "\n",
       "[5 rows x 23 columns]"
      ]
     },
     "execution_count": 46,
     "metadata": {},
     "output_type": "execute_result"
    }
   ],
   "source": [
    "df.head()"
   ]
  },
  {
   "cell_type": "code",
   "execution_count": 47,
   "id": "47c149bf-3530-4f88-ab59-e032ee9ea7db",
   "metadata": {},
   "outputs": [],
   "source": [
    "# due to the numerical rounding, some of the original values are invalid indices\n",
    "grid_Gamma = df.Gamma.unique()  "
   ]
  },
  {
   "cell_type": "code",
   "execution_count": 50,
   "id": "eb0afdd9-ba4f-4d15-ab3a-cfa067c35422",
   "metadata": {},
   "outputs": [],
   "source": [
    "df_grouped = df.groupby(by=['log_info', 'Gamma'])[['lower_bound', 'upper_bound']]\n",
    "values_mean = df_grouped.mean()\n",
    "values_std = df_grouped.std()"
   ]
  },
  {
   "cell_type": "code",
   "execution_count": 51,
   "id": "b8427868-ef81-4eb2-8f30-a63acc09d5b6",
   "metadata": {
    "tags": []
   },
   "outputs": [
    {
     "data": {
      "image/png": "[encoded data removed]",
      "text/plain": [
       "<Figure size 432x288 with 1 Axes>"
      ]
     },
     "metadata": {
      "needs_background": "light"
     },
     "output_type": "display_data"
    }
   ],
   "source": [
    "colors = {method: tab10((0.5 + i) / 10) for i, method in enumerate(grid_methods.keys())}\n",
    "legend_targets = []\n",
    "legend_tags = [\"low-rank GP KCMC ($D=100$)\", \"low-rank hard KCMC ($D=100$)\", \"QB\", \"ZSB\"]\n",
    "\n",
    "for method_name in grid_methods.keys():\n",
    "    upper = np.array([values_mean.loc[(method_name, Gamma)]['upper_bound'] for Gamma in grid_Gamma])\n",
    "    lower = np.array([values_mean.loc[(method_name, Gamma)]['lower_bound'] for Gamma in grid_Gamma])\n",
    "    dupper = np.array([values_std.loc[(method_name, Gamma)]['upper_bound'] for Gamma in grid_Gamma])\n",
    "    dlower = np.array([values_std.loc[(method_name, Gamma)]['lower_bound'] for Gamma in grid_Gamma])\n",
    "    c = colors[method_name]\n",
    "    upper_line = plt.plot(grid_Gamma, upper, c=c)[0]\n",
    "    lower_line = plt.plot(grid_Gamma, lower, c=c)[0]\n",
    "    upper_band = plt.fill_between(grid_Gamma, upper + dupper, upper - dupper, color=c, alpha=0.1)\n",
    "    lower_band = plt.fill_between(grid_Gamma, lower + dlower, lower - dlower, color=c, alpha=0.1)\n",
    "    legend_targets.append((upper_line, lower_line, upper_band, lower_band))\n",
    "\n",
    "plt.legend(legend_targets, legend_tags)\n",
    "plt.xlabel(r\"Sensitivity parameter $\\Gamma$\")\n",
    "plt.ylabel(r\"Upper/lower bounds of policy value\")\n",
    "plt.xlim([1.0, 2.0])\n",
    "plt.savefig('logs/policy_evaluation_synthetic_binary_changing_Gamma.pdf')"
   ]
  },
  {
   "cell_type": "markdown",
   "id": "beb30992-e56d-472b-a23a-b99a18cc8ef6",
   "metadata": {},
   "source": [
    "### Experiment of changing sample size"
   ]
  },
  {
   "cell_type": "code",
   "execution_count": 63,
   "id": "2460ab29-f106-460a-8165-1b294ab10e7d",
   "metadata": {},
   "outputs": [],
   "source": [
    "def update_base_method(**new_params):\n",
    "    ret = kcmc.experiment_policy_evaluation.EXAMPLE_PARAMS.copy()\n",
    "    ret.update(new_params)\n",
    "    return ret\n",
    "\n",
    "grid_methods = {\n",
    "    'GP_KCMC': update_base_method(\n",
    "        hajek_const=True,\n",
    "        normalize_p_t=True,\n",
    "        tan_box_const=True,\n",
    "        kernel=kernel,\n",
    "        kernel_const=True,\n",
    "        # D=n // 5,\n",
    "    ),\n",
    "    'hard_KCMC': update_base_method(\n",
    "        hajek_const=True,\n",
    "        normalize_p_t=True,\n",
    "        tan_box_const=True,\n",
    "        kernel=kernel,\n",
    "        kernel_const=True,\n",
    "        hard_kernel_const=True,\n",
    "        # D=n // 5,\n",
    "    ),\n",
    "    'quantile': update_base_method(\n",
    "        hajek_const=True,\n",
    "        normalize_p_t=True,\n",
    "        tan_box_const=True,\n",
    "        quantile_const=True,\n",
    "    ),\n",
    "    'ZSB': update_base_method(\n",
    "        hajek_const=True,\n",
    "        normalize_p_t=True,\n",
    "        tan_box_const=True,\n",
    "    ),\n",
    "}\n",
    "\n",
    "grid_sample_size = [100 * i for i in range(1, 11)]"
   ]
  },
  {
   "cell_type": "code",
   "execution_count": null,
   "id": "ec567d36-04bc-4933-8032-b0f947b5c729",
   "metadata": {},
   "outputs": [],
   "source": [
    "log_file='logs/policy_evaluation_synthetic_binary_changing_sample_size.csv'\n",
    "\n",
    "pbar = tqdm(total=len(grid_methods) * sum(n ** 2 for n in grid_sample_size))\n",
    "for method_name, params in grid_methods.items():\n",
    "    for n in grid_sample_size:\n",
    "        params['D'] = n // 5\n",
    "        run_policy_evaluation_experiment(\n",
    "            log_file, params, toy_policy, data_type='synthetic binary', \n",
    "            n_seeds=10, sample_size=n, log_info=method_name\n",
    "        )\n",
    "        pbar.update(n ** 2)\n",
    "pbar.close()"
   ]
  },
  {
   "cell_type": "code",
   "execution_count": 64,
   "id": "241f4294-7879-4779-b8a5-c97f1802e8c4",
   "metadata": {},
   "outputs": [],
   "source": [
    "df = pd.read_csv('logs/policy_evaluation_synthetic_binary_changing_sample_size.csv')"
   ]
  },
  {
   "cell_type": "code",
   "execution_count": 65,
   "id": "e31a8150-0bf0-4792-a095-00d45416cc08",
   "metadata": {},
   "outputs": [
    {
     "data": {
      "text/html": [
       "<div>\n",
       "<style scoped>\n",
       "    .dataframe tbody tr th:only-of-type {\n",
       "        vertical-align: middle;\n",
       "    }\n",
       "\n",
       "    .dataframe tbody tr th {\n",
       "        vertical-align: top;\n",
       "    }\n",
       "\n",
       "    .dataframe thead th {\n",
       "        text-align: right;\n",
       "    }\n",
       "</style>\n",
       "<table border=\"1\" class=\"dataframe\">\n",
       "  <thead>\n",
       "    <tr style=\"text-align: right;\">\n",
       "      <th></th>\n",
       "      <th>log_info</th>\n",
       "      <th>data_type</th>\n",
       "      <th>policy_name</th>\n",
       "      <th>sample_size</th>\n",
       "      <th>seed</th>\n",
       "      <th>lower_bound</th>\n",
       "      <th>upper_bound</th>\n",
       "      <th>D</th>\n",
       "      <th>lambd</th>\n",
       "      <th>gamma</th>\n",
       "      <th>...</th>\n",
       "      <th>hard_kernel_const</th>\n",
       "      <th>normalize_p_t</th>\n",
       "      <th>f_divergence</th>\n",
       "      <th>hajek_const</th>\n",
       "      <th>kernel_const</th>\n",
       "      <th>quantile_const</th>\n",
       "      <th>regressor_const</th>\n",
       "      <th>tan_box_const</th>\n",
       "      <th>lr_box_const</th>\n",
       "      <th>f_const</th>\n",
       "    </tr>\n",
       "  </thead>\n",
       "  <tbody>\n",
       "    <tr>\n",
       "      <th>0</th>\n",
       "      <td>ZSB</td>\n",
       "      <td>synthetic binary</td>\n",
       "      <td>toy_policy</td>\n",
       "      <td>100</td>\n",
       "      <td>0</td>\n",
       "      <td>3.663569</td>\n",
       "      <td>4.607054</td>\n",
       "      <td>20</td>\n",
       "      <td>1.5</td>\n",
       "      <td>0.01</td>\n",
       "      <td>...</td>\n",
       "      <td>False</td>\n",
       "      <td>True</td>\n",
       "      <td>total variation</td>\n",
       "      <td>True</td>\n",
       "      <td>False</td>\n",
       "      <td>False</td>\n",
       "      <td>False</td>\n",
       "      <td>True</td>\n",
       "      <td>False</td>\n",
       "      <td>False</td>\n",
       "    </tr>\n",
       "    <tr>\n",
       "      <th>1</th>\n",
       "      <td>ZSB</td>\n",
       "      <td>synthetic binary</td>\n",
       "      <td>toy_policy</td>\n",
       "      <td>100</td>\n",
       "      <td>1</td>\n",
       "      <td>3.335259</td>\n",
       "      <td>3.980575</td>\n",
       "      <td>20</td>\n",
       "      <td>1.5</td>\n",
       "      <td>0.01</td>\n",
       "      <td>...</td>\n",
       "      <td>False</td>\n",
       "      <td>True</td>\n",
       "      <td>total variation</td>\n",
       "      <td>True</td>\n",
       "      <td>False</td>\n",
       "      <td>False</td>\n",
       "      <td>False</td>\n",
       "      <td>True</td>\n",
       "      <td>False</td>\n",
       "      <td>False</td>\n",
       "    </tr>\n",
       "    <tr>\n",
       "      <th>2</th>\n",
       "      <td>ZSB</td>\n",
       "      <td>synthetic binary</td>\n",
       "      <td>toy_policy</td>\n",
       "      <td>100</td>\n",
       "      <td>2</td>\n",
       "      <td>2.288669</td>\n",
       "      <td>2.818702</td>\n",
       "      <td>20</td>\n",
       "      <td>1.5</td>\n",
       "      <td>0.01</td>\n",
       "      <td>...</td>\n",
       "      <td>False</td>\n",
       "      <td>True</td>\n",
       "      <td>total variation</td>\n",
       "      <td>True</td>\n",
       "      <td>False</td>\n",
       "      <td>False</td>\n",
       "      <td>False</td>\n",
       "      <td>True</td>\n",
       "      <td>False</td>\n",
       "      <td>False</td>\n",
       "    </tr>\n",
       "    <tr>\n",
       "      <th>3</th>\n",
       "      <td>ZSB</td>\n",
       "      <td>synthetic binary</td>\n",
       "      <td>toy_policy</td>\n",
       "      <td>100</td>\n",
       "      <td>3</td>\n",
       "      <td>3.151648</td>\n",
       "      <td>3.922349</td>\n",
       "      <td>20</td>\n",
       "      <td>1.5</td>\n",
       "      <td>0.01</td>\n",
       "      <td>...</td>\n",
       "      <td>False</td>\n",
       "      <td>True</td>\n",
       "      <td>total variation</td>\n",
       "      <td>True</td>\n",
       "      <td>False</td>\n",
       "      <td>False</td>\n",
       "      <td>False</td>\n",
       "      <td>True</td>\n",
       "      <td>False</td>\n",
       "      <td>False</td>\n",
       "    </tr>\n",
       "    <tr>\n",
       "      <th>4</th>\n",
       "      <td>ZSB</td>\n",
       "      <td>synthetic binary</td>\n",
       "      <td>toy_policy</td>\n",
       "      <td>100</td>\n",
       "      <td>4</td>\n",
       "      <td>2.758201</td>\n",
       "      <td>3.418388</td>\n",
       "      <td>20</td>\n",
       "      <td>1.5</td>\n",
       "      <td>0.01</td>\n",
       "      <td>...</td>\n",
       "      <td>False</td>\n",
       "      <td>True</td>\n",
       "      <td>total variation</td>\n",
       "      <td>True</td>\n",
       "      <td>False</td>\n",
       "      <td>False</td>\n",
       "      <td>False</td>\n",
       "      <td>True</td>\n",
       "      <td>False</td>\n",
       "      <td>False</td>\n",
       "    </tr>\n",
       "  </tbody>\n",
       "</table>\n",
       "<p>5 rows × 23 columns</p>\n",
       "</div>"
      ],
      "text/plain": [
       "  log_info         data_type policy_name  sample_size  seed  lower_bound  \\\n",
       "0      ZSB  synthetic binary  toy_policy          100     0     3.663569   \n",
       "1      ZSB  synthetic binary  toy_policy          100     1     3.335259   \n",
       "2      ZSB  synthetic binary  toy_policy          100     2     2.288669   \n",
       "3      ZSB  synthetic binary  toy_policy          100     3     3.151648   \n",
       "4      ZSB  synthetic binary  toy_policy          100     4     2.758201   \n",
       "\n",
       "   upper_bound   D  lambd  gamma  ...  hard_kernel_const  normalize_p_t  \\\n",
       "0     4.607054  20    1.5   0.01  ...              False           True   \n",
       "1     3.980575  20    1.5   0.01  ...              False           True   \n",
       "2     2.818702  20    1.5   0.01  ...              False           True   \n",
       "3     3.922349  20    1.5   0.01  ...              False           True   \n",
       "4     3.418388  20    1.5   0.01  ...              False           True   \n",
       "\n",
       "      f_divergence  hajek_const  kernel_const quantile_const  regressor_const  \\\n",
       "0  total variation         True         False          False            False   \n",
       "1  total variation         True         False          False            False   \n",
       "2  total variation         True         False          False            False   \n",
       "3  total variation         True         False          False            False   \n",
       "4  total variation         True         False          False            False   \n",
       "\n",
       "   tan_box_const  lr_box_const  f_const  \n",
       "0           True         False    False  \n",
       "1           True         False    False  \n",
       "2           True         False    False  \n",
       "3           True         False    False  \n",
       "4           True         False    False  \n",
       "\n",
       "[5 rows x 23 columns]"
      ]
     },
     "execution_count": 65,
     "metadata": {},
     "output_type": "execute_result"
    }
   ],
   "source": [
    "df.head()"
   ]
  },
  {
   "cell_type": "code",
   "execution_count": 66,
   "id": "0b535493-35a4-4e99-b497-ccda9ee18f06",
   "metadata": {},
   "outputs": [
    {
     "name": "stderr",
     "output_type": "stream",
     "text": [
      "/tmp/ipykernel_1674394/2653174186.py:1: FutureWarning: Indexing with multiple keys (implicitly converted to a tuple of keys) will be deprecated, use a list instead.\n",
      "  df_grouped = df.groupby(by=['log_info', 'sample_size'])['lower_bound', 'upper_bound']\n"
     ]
    }
   ],
   "source": [
    "df_grouped = df.groupby(by=['log_info', 'sample_size'])['lower_bound', 'upper_bound']\n",
    "values_mean = df_grouped.mean()\n",
    "values_std = df_grouped.std()"
   ]
  },
  {
   "cell_type": "code",
   "execution_count": 67,
   "id": "6c3a63e5-ef8a-480f-87d9-655ce948d334",
   "metadata": {},
   "outputs": [],
   "source": [
    "Y, T, X, _, _, _ = generate_data(100000)\n",
    "p_t = estimate_p_t(X, T)\n",
    "ground_truth = hajek(Y, T, X, p_t, toy_policy)"
   ]
  },
  {
   "cell_type": "code",
   "execution_count": 57,
   "id": "692c8b48-5848-4023-be64-a02e68cae25e",
   "metadata": {
    "tags": []
   },
   "outputs": [
    {
     "data": {
      "image/png": "[encoded data removed]",
      "text/plain": [
       "<Figure size 432x288 with 1 Axes>"
      ]
     },
     "metadata": {
      "needs_background": "light"
     },
     "output_type": "display_data"
    }
   ],
   "source": [
    "colors = {method: tab10((0.5 + i) / 10) for i, method in enumerate(grid_methods.keys())}\n",
    "legend_targets = []\n",
    "legend_tags = [\"low-rank GP KCMC ($D=n / 5$)\", \"low-rank hard KCMC ($D=n / 5$)\", \"QB\", \"ZSB\"]\n",
    "\n",
    "for method_name in grid_methods.keys():\n",
    "    upper = np.array([values_mean.loc[(method_name, n)]['upper_bound'] for n in grid_sample_size])\n",
    "    lower = np.array([values_mean.loc[(method_name, n)]['lower_bound'] for n in grid_sample_size])\n",
    "    dupper = np.array([values_std.loc[(method_name, n)]['upper_bound'] for n in grid_sample_size])\n",
    "    dlower = np.array([values_std.loc[(method_name, n)]['lower_bound'] for n in grid_sample_size])\n",
    "    c = colors[method_name]\n",
    "    upper_line = plt.plot(grid_sample_size, upper, c=c)[0]\n",
    "    lower_line = plt.plot(grid_sample_size, lower, c=c)[0]\n",
    "    upper_band = plt.fill_between(grid_sample_size, upper + dupper, upper - dupper, color=c, alpha=0.1)\n",
    "    lower_band = plt.fill_between(grid_sample_size, lower + dlower, lower - dlower, color=c, alpha=0.1)\n",
    "    legend_targets.append((upper_line, lower_line, upper_band, lower_band))\n",
    "\n",
    "c = tab10((0.5 + 4) / 10)\n",
    "gt_line = plt.plot(grid_sample_size, [ground_truth for _ in grid_sample_size], c=c)[0]\n",
    "legend_targets.append(gt_line)\n",
    "legend_tags.append(r\"Hajek est. ($n=100000$)\")\n",
    "\n",
    "plt.legend(legend_targets, legend_tags)\n",
    "plt.xlabel(r\"The number of samples $n$\")\n",
    "plt.ylabel(r\"Upper/lower bounds of policy value\")\n",
    "plt.xlim([0, 1050])\n",
    "plt.ylim([2.1, 4.5])\n",
    "plt.savefig('logs/policy_evaluation_synthetic_binary_changing_sample_size.pdf')"
   ]
  },
  {
   "cell_type": "markdown",
   "id": "04e0b8a1-9840-4aed-8423-8a6f9b0f5730",
   "metadata": {},
   "source": [
    "#### The interpretation of the above plot:\n",
    "- Since the upper/lower bound's tightness is independent of the sample size by definition, the width of interval should not change significantly for different sample size\n",
    "- However, the "
   ]
  },
  {
   "cell_type": "markdown",
   "id": "dfe379e6-7860-4f84-8487-3b0c2cc3349d",
   "metadata": {
    "tags": []
   },
   "source": [
    "# Continuous Synthetic Data"
   ]
  },
  {
   "cell_type": "code",
   "execution_count": 1,
   "id": "9d987fe4-86b4-4798-8110-0f91f95c70ed",
   "metadata": {},
   "outputs": [],
   "source": [
    "import numpy as np\n",
    "import torch\n",
    "import pandas as pd\n",
    "import numpy as np"
   ]
  },
  {
   "cell_type": "code",
   "execution_count": 2,
   "id": "34de73a2-48f7-4840-b00e-8e9d27dc7250",
   "metadata": {},
   "outputs": [],
   "source": [
    "from matplotlib import pyplot as plt\n",
    "plt.style.use(\"seaborn-whitegrid\")\n",
    "from matplotlib.cm import tab10"
   ]
  },
  {
   "cell_type": "code",
   "execution_count": 3,
   "id": "2c189941-ef39-4a6d-8042-de58d9919b53",
   "metadata": {},
   "outputs": [],
   "source": [
    "from tqdm.auto import tqdm"
   ]
  },
  {
   "cell_type": "code",
   "execution_count": 4,
   "id": "a366e288-7d0c-4504-afbb-e37ed1796e0f",
   "metadata": {},
   "outputs": [],
   "source": [
    "import kcmc\n",
    "from kcmc.estimators import confounding_robust_estimator, hajek, ipw\n",
    "from kcmc.experiment_policy_evaluation import run_policy_evaluation_experiment\n",
    "\n",
    "#from kcmc.data_continuous import evaluate_policy, generate_data, estimate_p_t"
   ]
  },
  {
   "cell_type": "code",
   "execution_count": 5,
   "id": "92fcd4a3-5452-4cee-af9e-98cc54021bd9",
   "metadata": {},
   "outputs": [],
   "source": [
    "from kcmc.data_continuous import evaluate_policy, generate_data, estimate_p_t"
   ]
  },
  {
   "cell_type": "code",
   "execution_count": 6,
   "id": "48942168-fbda-4bd8-8841-a3cf75af9dfa",
   "metadata": {},
   "outputs": [],
   "source": [
    "def wrap_continuous_policy(policy):\n",
    "    def wrapped_policy(X, T=None, return_sample=False, requires_grad=False): \n",
    "        policy_dist = policy(X)\n",
    "        if return_sample:\n",
    "            return policy_dist.rsample() if requires_grad else policy_dist.sample()\n",
    "        else:\n",
    "            return torch.exp(policy_dist.log_prob(torch.as_tensor(T)))\n",
    "    return wrapped_policy\n",
    "\n",
    "beta_e_x = np.asarray([0, .75, -.5, 0, -1])\n",
    "\n",
    "@wrap_continuous_policy\n",
    "def toy_policy(X):\n",
    "    z = torch.as_tensor(X) @ torch.as_tensor(beta_e_x)\n",
    "    mu_t = torch.exp(z) / (1 + torch.exp(z))\n",
    "    a, b = 3 * mu_t + 1, 3 * (1 - mu_t) + 1\n",
    "    return torch.distributions.beta.Beta(a, b)"
   ]
  },
  {
   "cell_type": "code",
   "execution_count": 7,
   "id": "f3df57d3-de3b-4e5d-ac4d-6fc939b456b3",
   "metadata": {},
   "outputs": [],
   "source": [
    "# Guessing kernel with approximate solution\n",
    "Y, T, X, _, _, _ = generate_data(1000)\n",
    "p_t = estimate_p_t(X, T)\n",
    "_, w_guess = confounding_robust_estimator(\n",
    "    Y, T, X, p_t, toy_policy, Gamma=1.5,\n",
    "    return_w=True, \n",
    "    lr_box_const=True,\n",
    "    quantile_const=True,\n",
    ")\n",
    "e_guess = p_t * w_guess - 1\n",
    "gp_kernel = kcmc.estimators.fit_gp_kernel(e_guess, T, X)\n",
    "kernel = gp_kernel.k2"
   ]
  },
  {
   "cell_type": "code",
   "execution_count": 8,
   "id": "15c08a4f-1984-409b-98fc-327d198d6cbf",
   "metadata": {},
   "outputs": [
    {
     "data": {
      "text/plain": [
       "tensor(3.7541, dtype=torch.float64)"
      ]
     },
     "execution_count": 8,
     "metadata": {},
     "output_type": "execute_result"
    }
   ],
   "source": [
    "_"
   ]
  },
  {
   "cell_type": "code",
   "execution_count": 9,
   "id": "0af58663-0c16-4b47-a2b4-efc5a6ab307a",
   "metadata": {},
   "outputs": [],
   "source": [
    "kernel = kcmc.estimators.fit_gp_kernel(Y, T, X).k2\n",
    "\n",
    "def qb_kernel(TX1, TX2):\n",
    "    feat1 = get_QB_features(TX1)\n",
    "    feat2 = get_QB_features(TX2)\n",
    "    return feat1 @ feat2.T\n",
    "    \n",
    "def get_QB_features(TX):\n",
    "    T = TX[:, :1]\n",
    "    X = TX[:, 1:]\n",
    "    ones = np.ones_like(T)\n",
    "    pi = 1.#toy_policy(X, T[:, 0]).data.numpy()\n",
    "    return (pi / p_t)[:, None] * np.concatenate([ones, T, X], axis=1)"
   ]
  },
  {
   "cell_type": "code",
   "execution_count": 10,
   "id": "a40b9b49-2e69-48a4-b011-2cbf8f26a01b",
   "metadata": {},
   "outputs": [],
   "source": [
    "# strictly tighter version of QB constraints\n",
    "est = confounding_robust_estimator(\n",
    "    Y, T, X, p_t, toy_policy, Gamma=1.5,\n",
    "    lr_box_const=True,\n",
    "    quantile_const=True,\n",
    "    kernel_const=True, hard_kernel_const=False,\n",
    "    kernel=qb_kernel,\n",
    ")"
   ]
  },
  {
   "cell_type": "code",
   "execution_count": 11,
   "id": "e2b60960-c7a7-445b-a96d-877876fc75f3",
   "metadata": {},
   "outputs": [
    {
     "data": {
      "text/plain": [
       "tensor(3.7541, dtype=torch.float64)"
      ]
     },
     "execution_count": 11,
     "metadata": {},
     "output_type": "execute_result"
    }
   ],
   "source": [
    "est"
   ]
  },
  {
   "cell_type": "markdown",
   "id": "ef553dc6-3d5f-4562-90fd-58e96ebf3ea1",
   "metadata": {},
   "source": [
    "### Experiment of changing sensitivity parameter $\\Gamma$ "
   ]
  },
  {
   "cell_type": "code",
   "execution_count": 12,
   "id": "a5b407ab-e243-493c-91e9-f7cd44609e99",
   "metadata": {},
   "outputs": [],
   "source": [
    "def update_base_method(**new_params):\n",
    "    ret = kcmc.experiment_policy_evaluation.EXAMPLE_PARAMS.copy()\n",
    "    ret.update(new_params)\n",
    "    return ret\n",
    "\n",
    "grid_methods = {\n",
    "    'GP_KCMC': update_base_method(\n",
    "        lr_box_const=True,\n",
    "        kernel=kernel,\n",
    "        rescale_kernel=True,\n",
    "        kernel_const=True,\n",
    "        D=100,\n",
    "    ),\n",
    "    'hard_KCMC': update_base_method(\n",
    "        lr_box_const=True,\n",
    "        kernel=kernel,\n",
    "        rescale_kernel=True,\n",
    "        kernel_const=True,\n",
    "        hard_kernel_const=True,\n",
    "        D=100,\n",
    "    ),\n",
    "    'quantile': update_base_method(\n",
    "        lr_box_const=True,\n",
    "        quantile_const=True,\n",
    "    ),\n",
    "}\n",
    "\n",
    "grid_Gamma = [1.0 + 0.01 + 0.1 * i for i in range(11)]"
   ]
  },
  {
   "cell_type": "code",
   "execution_count": null,
   "id": "a164e2ae-0d61-44a4-9bef-cc1463e97183",
   "metadata": {},
   "outputs": [],
   "source": [
    "log_file='logs/policy_evaluation_synthetic_continuous_changing_Gamma.csv'\n",
    "\n",
    "pbar = tqdm(total=len(grid_methods) * len(grid_Gamma))\n",
    "for method_name, params in grid_methods.items():\n",
    "    for Gamma in grid_Gamma:\n",
    "        params['Gamma'] = Gamma\n",
    "        run_policy_evaluation_experiment(\n",
    "            log_file, params, toy_policy, data_type='synthetic continuous', \n",
    "            n_seeds=10, sample_size=500, log_info=method_name\n",
    "        )\n",
    "        pbar.update(1)\n",
    "pbar.close()"
   ]
  },
  {
   "cell_type": "code",
   "execution_count": 13,
   "id": "17d13352-2b7f-4f7a-963d-1e0f856aa069",
   "metadata": {},
   "outputs": [],
   "source": [
    "df = pd.read_csv('logs/policy_evaluation_synthetic_continuous_changing_Gamma.csv')"
   ]
  },
  {
   "cell_type": "code",
   "execution_count": 14,
   "id": "b67e89f4-f487-4955-b5e7-eff2354eb0e8",
   "metadata": {},
   "outputs": [
    {
     "data": {
      "text/html": [
       "<div>\n",
       "<style scoped>\n",
       "    .dataframe tbody tr th:only-of-type {\n",
       "        vertical-align: middle;\n",
       "    }\n",
       "\n",
       "    .dataframe tbody tr th {\n",
       "        vertical-align: top;\n",
       "    }\n",
       "\n",
       "    .dataframe thead th {\n",
       "        text-align: right;\n",
       "    }\n",
       "</style>\n",
       "<table border=\"1\" class=\"dataframe\">\n",
       "  <thead>\n",
       "    <tr style=\"text-align: right;\">\n",
       "      <th></th>\n",
       "      <th>log_info</th>\n",
       "      <th>data_type</th>\n",
       "      <th>policy_name</th>\n",
       "      <th>sample_size</th>\n",
       "      <th>seed</th>\n",
       "      <th>lower_bound</th>\n",
       "      <th>upper_bound</th>\n",
       "      <th>D</th>\n",
       "      <th>Gamma</th>\n",
       "      <th>gamma</th>\n",
       "      <th>...</th>\n",
       "      <th>rescale_kernel</th>\n",
       "      <th>normalize_p_t</th>\n",
       "      <th>f_divergence</th>\n",
       "      <th>hajek_const</th>\n",
       "      <th>kernel_const</th>\n",
       "      <th>quantile_const</th>\n",
       "      <th>regressor_const</th>\n",
       "      <th>tan_box_const</th>\n",
       "      <th>lr_box_const</th>\n",
       "      <th>f_const</th>\n",
       "    </tr>\n",
       "  </thead>\n",
       "  <tbody>\n",
       "    <tr>\n",
       "      <th>0</th>\n",
       "      <td>GP_KCMC</td>\n",
       "      <td>synthetic continuous</td>\n",
       "      <td>wrapped_policy</td>\n",
       "      <td>500</td>\n",
       "      <td>0</td>\n",
       "      <td>4.212170</td>\n",
       "      <td>4.299436</td>\n",
       "      <td>100</td>\n",
       "      <td>1.01</td>\n",
       "      <td>0.01</td>\n",
       "      <td>...</td>\n",
       "      <td>True</td>\n",
       "      <td>False</td>\n",
       "      <td>total variation</td>\n",
       "      <td>False</td>\n",
       "      <td>True</td>\n",
       "      <td>False</td>\n",
       "      <td>False</td>\n",
       "      <td>False</td>\n",
       "      <td>True</td>\n",
       "      <td>False</td>\n",
       "    </tr>\n",
       "    <tr>\n",
       "      <th>1</th>\n",
       "      <td>GP_KCMC</td>\n",
       "      <td>synthetic continuous</td>\n",
       "      <td>wrapped_policy</td>\n",
       "      <td>500</td>\n",
       "      <td>1</td>\n",
       "      <td>3.947922</td>\n",
       "      <td>4.029486</td>\n",
       "      <td>100</td>\n",
       "      <td>1.01</td>\n",
       "      <td>0.01</td>\n",
       "      <td>...</td>\n",
       "      <td>True</td>\n",
       "      <td>False</td>\n",
       "      <td>total variation</td>\n",
       "      <td>False</td>\n",
       "      <td>True</td>\n",
       "      <td>False</td>\n",
       "      <td>False</td>\n",
       "      <td>False</td>\n",
       "      <td>True</td>\n",
       "      <td>False</td>\n",
       "    </tr>\n",
       "    <tr>\n",
       "      <th>2</th>\n",
       "      <td>GP_KCMC</td>\n",
       "      <td>synthetic continuous</td>\n",
       "      <td>wrapped_policy</td>\n",
       "      <td>500</td>\n",
       "      <td>2</td>\n",
       "      <td>4.024757</td>\n",
       "      <td>4.107916</td>\n",
       "      <td>100</td>\n",
       "      <td>1.01</td>\n",
       "      <td>0.01</td>\n",
       "      <td>...</td>\n",
       "      <td>True</td>\n",
       "      <td>False</td>\n",
       "      <td>total variation</td>\n",
       "      <td>False</td>\n",
       "      <td>True</td>\n",
       "      <td>False</td>\n",
       "      <td>False</td>\n",
       "      <td>False</td>\n",
       "      <td>True</td>\n",
       "      <td>False</td>\n",
       "    </tr>\n",
       "    <tr>\n",
       "      <th>3</th>\n",
       "      <td>GP_KCMC</td>\n",
       "      <td>synthetic continuous</td>\n",
       "      <td>wrapped_policy</td>\n",
       "      <td>500</td>\n",
       "      <td>3</td>\n",
       "      <td>4.096884</td>\n",
       "      <td>4.182597</td>\n",
       "      <td>100</td>\n",
       "      <td>1.01</td>\n",
       "      <td>0.01</td>\n",
       "      <td>...</td>\n",
       "      <td>True</td>\n",
       "      <td>False</td>\n",
       "      <td>total variation</td>\n",
       "      <td>False</td>\n",
       "      <td>True</td>\n",
       "      <td>False</td>\n",
       "      <td>False</td>\n",
       "      <td>False</td>\n",
       "      <td>True</td>\n",
       "      <td>False</td>\n",
       "    </tr>\n",
       "    <tr>\n",
       "      <th>4</th>\n",
       "      <td>GP_KCMC</td>\n",
       "      <td>synthetic continuous</td>\n",
       "      <td>wrapped_policy</td>\n",
       "      <td>500</td>\n",
       "      <td>4</td>\n",
       "      <td>4.402882</td>\n",
       "      <td>4.493836</td>\n",
       "      <td>100</td>\n",
       "      <td>1.01</td>\n",
       "      <td>0.01</td>\n",
       "      <td>...</td>\n",
       "      <td>True</td>\n",
       "      <td>False</td>\n",
       "      <td>total variation</td>\n",
       "      <td>False</td>\n",
       "      <td>True</td>\n",
       "      <td>False</td>\n",
       "      <td>False</td>\n",
       "      <td>False</td>\n",
       "      <td>True</td>\n",
       "      <td>False</td>\n",
       "    </tr>\n",
       "  </tbody>\n",
       "</table>\n",
       "<p>5 rows × 24 columns</p>\n",
       "</div>"
      ],
      "text/plain": [
       "  log_info             data_type     policy_name  sample_size  seed  \\\n",
       "0  GP_KCMC  synthetic continuous  wrapped_policy          500     0   \n",
       "1  GP_KCMC  synthetic continuous  wrapped_policy          500     1   \n",
       "2  GP_KCMC  synthetic continuous  wrapped_policy          500     2   \n",
       "3  GP_KCMC  synthetic continuous  wrapped_policy          500     3   \n",
       "4  GP_KCMC  synthetic continuous  wrapped_policy          500     4   \n",
       "\n",
       "   lower_bound  upper_bound    D  Gamma  gamma  ...  rescale_kernel  \\\n",
       "0     4.212170     4.299436  100   1.01   0.01  ...            True   \n",
       "1     3.947922     4.029486  100   1.01   0.01  ...            True   \n",
       "2     4.024757     4.107916  100   1.01   0.01  ...            True   \n",
       "3     4.096884     4.182597  100   1.01   0.01  ...            True   \n",
       "4     4.402882     4.493836  100   1.01   0.01  ...            True   \n",
       "\n",
       "   normalize_p_t     f_divergence  hajek_const  kernel_const  quantile_const  \\\n",
       "0          False  total variation        False          True           False   \n",
       "1          False  total variation        False          True           False   \n",
       "2          False  total variation        False          True           False   \n",
       "3          False  total variation        False          True           False   \n",
       "4          False  total variation        False          True           False   \n",
       "\n",
       "  regressor_const  tan_box_const  lr_box_const  f_const  \n",
       "0           False          False          True    False  \n",
       "1           False          False          True    False  \n",
       "2           False          False          True    False  \n",
       "3           False          False          True    False  \n",
       "4           False          False          True    False  \n",
       "\n",
       "[5 rows x 24 columns]"
      ]
     },
     "execution_count": 14,
     "metadata": {},
     "output_type": "execute_result"
    }
   ],
   "source": [
    "df.head()"
   ]
  },
  {
   "cell_type": "code",
   "execution_count": 15,
   "id": "3926e1ad-6304-4204-a2d0-c9706f942e43",
   "metadata": {},
   "outputs": [],
   "source": [
    "# due to the numerical rounding, some of the original values are invalid indices\n",
    "grid_Gamma = df.Gamma.unique()  "
   ]
  },
  {
   "cell_type": "code",
   "execution_count": 16,
   "id": "0b9c2222-6687-4248-a951-42894352d77e",
   "metadata": {},
   "outputs": [
    {
     "name": "stderr",
     "output_type": "stream",
     "text": [
      "/tmp/ipykernel_2176406/1075133163.py:1: FutureWarning: Indexing with multiple keys (implicitly converted to a tuple of keys) will be deprecated, use a list instead.\n",
      "  df_grouped = df.groupby(by=['log_info', 'Gamma'])['lower_bound', 'upper_bound']\n"
     ]
    }
   ],
   "source": [
    "df_grouped = df.groupby(by=['log_info', 'Gamma'])['lower_bound', 'upper_bound']\n",
    "values_mean = df_grouped.mean()\n",
    "values_std = df_grouped.std()"
   ]
  },
  {
   "cell_type": "code",
   "execution_count": 17,
   "id": "d6c13fe1-3dcc-45b8-966c-4107971bf4a2",
   "metadata": {
    "tags": []
   },
   "outputs": [
    {
     "data": {
      "image/png": "[encoded data removed]",
      "text/plain": [
       "<Figure size 432x288 with 1 Axes>"
      ]
     },
     "metadata": {
      "needs_background": "light"
     },
     "output_type": "display_data"
    }
   ],
   "source": [
    "colors = {method: tab10((0.5 + i) / 10) for i, method in enumerate(grid_methods.keys())}\n",
    "legend_targets = []\n",
    "legend_tags = [\"low-rank GP KCMC ($D=100$)\", \"low-rank hard KCMC ($D=100$)\", \"QB\"]\n",
    "\n",
    "for method_name in grid_methods.keys():\n",
    "    upper = np.array([values_mean.loc[(method_name, Gamma)]['upper_bound'] for Gamma in grid_Gamma])\n",
    "    lower = np.array([values_mean.loc[(method_name, Gamma)]['lower_bound'] for Gamma in grid_Gamma])\n",
    "    dupper = np.array([values_std.loc[(method_name, Gamma)]['upper_bound'] for Gamma in grid_Gamma])\n",
    "    dlower = np.array([values_std.loc[(method_name, Gamma)]['lower_bound'] for Gamma in grid_Gamma])\n",
    "    c = colors[method_name]\n",
    "    upper_line = plt.plot(grid_Gamma, upper, c=c)[0]\n",
    "    lower_line = plt.plot(grid_Gamma, lower, c=c)[0]\n",
    "    upper_band = plt.fill_between(grid_Gamma, upper + dupper, upper - dupper, color=c, alpha=0.1)\n",
    "    lower_band = plt.fill_between(grid_Gamma, lower + dlower, lower - dlower, color=c, alpha=0.1)\n",
    "    legend_targets.append((upper_line, lower_line, upper_band, lower_band))\n",
    "\n",
    "plt.legend(legend_targets, legend_tags)\n",
    "plt.xlabel(r\"Sensitivity parameter $\\Gamma$\")\n",
    "plt.ylabel(r\"Upper/lower bounds of policy value\")\n",
    "plt.xlim([1.0, 2.0])\n",
    "plt.savefig('logs/policy_evaluation_synthetic_continuous_changing_Gamma.pdf')"
   ]
  },
  {
   "cell_type": "markdown",
   "id": "33d85253-5653-48e1-b827-e873e647dbbe",
   "metadata": {
    "tags": []
   },
   "source": [
    "# Real Data"
   ]
  },
  {
   "cell_type": "code",
   "execution_count": 52,
   "id": "b9759961-68a9-4985-a3d4-6871af0168c1",
   "metadata": {},
   "outputs": [],
   "source": [
    "import numpy as np\n",
    "import torch\n",
    "import pandas as pd\n",
    "import numpy as np"
   ]
  },
  {
   "cell_type": "code",
   "execution_count": 53,
   "id": "947c7e15-a1b1-4827-b0a5-d48a9694f0b2",
   "metadata": {},
   "outputs": [],
   "source": [
    "from matplotlib import pyplot as plt\n",
    "plt.style.use(\"seaborn-whitegrid\")\n",
    "from matplotlib.cm import tab10"
   ]
  },
  {
   "cell_type": "code",
   "execution_count": 54,
   "id": "7c17a7b7-d5e3-422f-b302-c7f516b6aebd",
   "metadata": {},
   "outputs": [],
   "source": [
    "from tqdm.auto import tqdm"
   ]
  },
  {
   "cell_type": "code",
   "execution_count": 55,
   "id": "b3e63742-e1d5-4a8f-abd9-a08dd8ff01d9",
   "metadata": {},
   "outputs": [],
   "source": [
    "import kcmc\n",
    "from kcmc.estimators import confounding_robust_estimator, hajek, ipw\n",
    "from kcmc.experiment_policy_evaluation import run_policy_evaluation_experiment\n",
    "\n",
    "#from kcmc.data_continuous import evaluate_policy, generate_data, estimate_p_t"
   ]
  },
  {
   "cell_type": "code",
   "execution_count": 56,
   "id": "267765c9-09aa-4fcd-9bf7-c16cca6bd33d",
   "metadata": {},
   "outputs": [
    {
     "data": {
      "application/vnd.jupyter.widget-view+json": {
       "model_id": "b6c437e1435243cdaa36b65f8a74c4cc",
       "version_major": 2,
       "version_minor": 0
      },
      "text/plain": [
       "  0%|          | 0/101 [00:00<?, ?it/s]"
      ]
     },
     "metadata": {},
     "output_type": "display_data"
    }
   ],
   "source": [
    "from kcmc.data_real import generate_data, estimate_p_t\n",
    "\n",
    "Y, T, X = generate_data()\n",
    "p_t = estimate_p_t(X, T)\n",
    "\n",
    "def LR_policy(X, T, beta):\n",
    "    n = X.shape[0]\n",
    "    T = torch.as_tensor(T)\n",
    "    X = np.concatenate([np.ones([n, 1]), X], axis=1)\n",
    "    p = torch.sigmoid(torch.tensor(X) @ beta)\n",
    "    return (1 - T) * p + T * (1 - p)\n",
    "\n",
    "beta_ipw = torch.zeros(9, requires_grad=True, dtype=float)\n",
    "ipw_policy = lambda X, T: LR_policy(X, T, beta_ipw)\n",
    "#ipw(Y, T ,X, p_t, ipw_policy)\n",
    "\n",
    "train_steps = 101\n",
    "optimizer = torch.optim.RMSprop(lr=1e-1, params=[beta_ipw])\n",
    "pbar = tqdm(range(train_steps))\n",
    "for i in pbar:\n",
    "    value = ipw(Y, T, X, p_t, ipw_policy)\n",
    "    (- value).backward()\n",
    "    optimizer.step()\n",
    "    optimizer.zero_grad()\n",
    "    pbar.set_description(f\"Value: {value}\")\n",
    "\n",
    "toy_policy = ipw_policy"
   ]
  },
  {
   "cell_type": "code",
   "execution_count": 58,
   "id": "fff7c393-f481-4396-a68d-b25ef4266381",
   "metadata": {},
   "outputs": [],
   "source": [
    "def ate_policy(X, T):\n",
    "    return torch.as_tensor(np.where(T == 1, 1., -1.))"
   ]
  },
  {
   "cell_type": "code",
   "execution_count": 59,
   "id": "f4113cf1-b3aa-40ee-8ad8-13f46d70cb09",
   "metadata": {},
   "outputs": [],
   "source": [
    "# Guessing kernel with approximate solution\n",
    "est, w_guess = confounding_robust_estimator(\n",
    "    Y, T, X, p_t, ate_policy, Gamma=1.5,\n",
    "    hajek_const=True, tan_box_const=True, \n",
    "    return_w=True, normalize_p_t=True, \n",
    ")\n",
    "e_guess = p_t * w_guess - 1\n",
    "gp_kernel = kcmc.estimators.fit_gp_kernel(e_guess, T, X)\n",
    "kernel = gp_kernel.k2\n",
    "sigma2 = gp_kernel.k1.noise_level"
   ]
  },
  {
   "cell_type": "code",
   "execution_count": 60,
   "id": "a18ad413-1acf-4d23-8a5e-12fe8ba3bc4e",
   "metadata": {},
   "outputs": [
    {
     "data": {
      "text/plain": [
       "tensor(0.0986, dtype=torch.float64)"
      ]
     },
     "execution_count": 60,
     "metadata": {},
     "output_type": "execute_result"
    }
   ],
   "source": [
    "est"
   ]
  },
  {
   "cell_type": "code",
   "execution_count": 61,
   "id": "dde0fe63-c43d-4e5f-a326-e0afe04a9d63",
   "metadata": {},
   "outputs": [
    {
     "data": {
      "text/plain": [
       "0.823088455772114"
      ]
     },
     "execution_count": 61,
     "metadata": {},
     "output_type": "execute_result"
    }
   ],
   "source": [
    "from kcmc.fast_quantile_regressor import QuantileRegressor\n",
    "m = QuantileRegressor(0.2).fit(X, Y.data.numpy())\n",
    "(Y.data.numpy() - m.predict(X) > 0).mean()"
   ]
  },
  {
   "cell_type": "markdown",
   "id": "8f116b6c-5764-4541-9978-fb8555f5af1f",
   "metadata": {},
   "source": [
    "### Experiment of changing sensitivity parameter $\\Gamma$ "
   ]
  },
  {
   "cell_type": "code",
   "execution_count": 62,
   "id": "db772f79-0f2d-4a9a-bff0-b5fe78c4eae4",
   "metadata": {},
   "outputs": [],
   "source": [
    "def update_base_method(**new_params):\n",
    "    ret = kcmc.experiment_policy_evaluation.EXAMPLE_PARAMS.copy()\n",
    "    ret.update(new_params)\n",
    "    return ret\n",
    "\n",
    "grid_methods = {\n",
    "    'GP_KCMC': update_base_method(\n",
    "        hajek_const=True,\n",
    "        normalize_p_t=True,\n",
    "        tan_box_const=True,\n",
    "        kernel=kernel,\n",
    "        sigma2=sigma2 / 4,\n",
    "        kernel_const=True,\n",
    "        D=50,\n",
    "    ),\n",
    "    'hard_KCMC': update_base_method(\n",
    "        hajek_const=True,\n",
    "        normalize_p_t=True,\n",
    "        tan_box_const=True,\n",
    "        kernel=kernel,\n",
    "        kernel_const=True,\n",
    "        hard_kernel_const=True,\n",
    "        D=50,\n",
    "    ),\n",
    "    'quantile': update_base_method(\n",
    "        hajek_const=True,\n",
    "        normalize_p_t=True,\n",
    "        tan_box_const=True,\n",
    "        quantile_const=True,\n",
    "        regressor_const=True,\n",
    "    ),\n",
    "    'ZSB': update_base_method(\n",
    "        hajek_const=True,\n",
    "        normalize_p_t=True,\n",
    "        tan_box_const=True,\n",
    "    ),\n",
    "}\n",
    "\n",
    "grid_Gamma = [1.0 + 0.01 + 0.1 * i for i in range(11)]"
   ]
  },
  {
   "cell_type": "code",
   "execution_count": 11,
   "id": "20a03abb-c3e5-44da-84d3-bc75d81e085b",
   "metadata": {
    "tags": []
   },
   "outputs": [
    {
     "data": {
      "application/vnd.jupyter.widget-view+json": {
       "model_id": "837b960ba21a4a628982a000d520f4b0",
       "version_major": 2,
       "version_minor": 0
      },
      "text/plain": [
       "  0%|          | 0/44 [00:00<?, ?it/s]"
      ]
     },
     "metadata": {},
     "output_type": "display_data"
    }
   ],
   "source": [
    "log_file='logs/policy_evaluation_real_binary_changing_Gamma.csv'\n",
    "\n",
    "pbar = tqdm(total=len(grid_methods) * len(grid_Gamma))\n",
    "for method_name, params in grid_methods.items():\n",
    "    for Gamma in grid_Gamma:\n",
    "        params['Gamma'] = Gamma\n",
    "        run_policy_evaluation_experiment(\n",
    "            log_file, params, ate_policy, data_type='real binary', \n",
    "            n_seeds=1, sample_size=1000, log_info=method_name\n",
    "        )\n",
    "        pbar.update(1)\n",
    "pbar.close()"
   ]
  },
  {
   "cell_type": "code",
   "execution_count": 63,
   "id": "6d8d1ff5-8cc5-4140-8c28-651e796801e4",
   "metadata": {},
   "outputs": [],
   "source": [
    "df = pd.read_csv('logs/policy_evaluation_real_binary_changing_Gamma.csv')"
   ]
  },
  {
   "cell_type": "code",
   "execution_count": 64,
   "id": "ec79163e-25db-4e29-bf92-e49c822ab363",
   "metadata": {},
   "outputs": [
    {
     "data": {
      "text/html": [
       "<div>\n",
       "<style scoped>\n",
       "    .dataframe tbody tr th:only-of-type {\n",
       "        vertical-align: middle;\n",
       "    }\n",
       "\n",
       "    .dataframe tbody tr th {\n",
       "        vertical-align: top;\n",
       "    }\n",
       "\n",
       "    .dataframe thead th {\n",
       "        text-align: right;\n",
       "    }\n",
       "</style>\n",
       "<table border=\"1\" class=\"dataframe\">\n",
       "  <thead>\n",
       "    <tr style=\"text-align: right;\">\n",
       "      <th></th>\n",
       "      <th>log_info</th>\n",
       "      <th>data_type</th>\n",
       "      <th>policy_name</th>\n",
       "      <th>sample_size</th>\n",
       "      <th>seed</th>\n",
       "      <th>lower_bound</th>\n",
       "      <th>upper_bound</th>\n",
       "      <th>D</th>\n",
       "      <th>lambd</th>\n",
       "      <th>gamma</th>\n",
       "      <th>...</th>\n",
       "      <th>hard_kernel_const</th>\n",
       "      <th>normalize_p_t</th>\n",
       "      <th>f_divergence</th>\n",
       "      <th>hajek_const</th>\n",
       "      <th>kernel_const</th>\n",
       "      <th>quantile_const</th>\n",
       "      <th>regressor_const</th>\n",
       "      <th>tan_box_const</th>\n",
       "      <th>lr_box_const</th>\n",
       "      <th>f_const</th>\n",
       "    </tr>\n",
       "  </thead>\n",
       "  <tbody>\n",
       "    <tr>\n",
       "      <th>0</th>\n",
       "      <td>GP_KCMC</td>\n",
       "      <td>real binary</td>\n",
       "      <td>ate_policy</td>\n",
       "      <td>667</td>\n",
       "      <td>0</td>\n",
       "      <td>0.223965</td>\n",
       "      <td>0.230142</td>\n",
       "      <td>50</td>\n",
       "      <td>1.01</td>\n",
       "      <td>0.01</td>\n",
       "      <td>...</td>\n",
       "      <td>False</td>\n",
       "      <td>True</td>\n",
       "      <td>total variation</td>\n",
       "      <td>True</td>\n",
       "      <td>True</td>\n",
       "      <td>False</td>\n",
       "      <td>False</td>\n",
       "      <td>True</td>\n",
       "      <td>False</td>\n",
       "      <td>False</td>\n",
       "    </tr>\n",
       "    <tr>\n",
       "      <th>1</th>\n",
       "      <td>GP_KCMC</td>\n",
       "      <td>real binary</td>\n",
       "      <td>ate_policy</td>\n",
       "      <td>667</td>\n",
       "      <td>0</td>\n",
       "      <td>0.194506</td>\n",
       "      <td>0.259271</td>\n",
       "      <td>50</td>\n",
       "      <td>1.11</td>\n",
       "      <td>0.01</td>\n",
       "      <td>...</td>\n",
       "      <td>False</td>\n",
       "      <td>True</td>\n",
       "      <td>total variation</td>\n",
       "      <td>True</td>\n",
       "      <td>True</td>\n",
       "      <td>False</td>\n",
       "      <td>False</td>\n",
       "      <td>True</td>\n",
       "      <td>False</td>\n",
       "      <td>False</td>\n",
       "    </tr>\n",
       "    <tr>\n",
       "      <th>2</th>\n",
       "      <td>GP_KCMC</td>\n",
       "      <td>real binary</td>\n",
       "      <td>ate_policy</td>\n",
       "      <td>667</td>\n",
       "      <td>0</td>\n",
       "      <td>0.171056</td>\n",
       "      <td>0.282348</td>\n",
       "      <td>50</td>\n",
       "      <td>1.21</td>\n",
       "      <td>0.01</td>\n",
       "      <td>...</td>\n",
       "      <td>False</td>\n",
       "      <td>True</td>\n",
       "      <td>total variation</td>\n",
       "      <td>True</td>\n",
       "      <td>True</td>\n",
       "      <td>False</td>\n",
       "      <td>False</td>\n",
       "      <td>True</td>\n",
       "      <td>False</td>\n",
       "      <td>False</td>\n",
       "    </tr>\n",
       "    <tr>\n",
       "      <th>3</th>\n",
       "      <td>GP_KCMC</td>\n",
       "      <td>real binary</td>\n",
       "      <td>ate_policy</td>\n",
       "      <td>667</td>\n",
       "      <td>0</td>\n",
       "      <td>0.151957</td>\n",
       "      <td>0.300862</td>\n",
       "      <td>50</td>\n",
       "      <td>1.31</td>\n",
       "      <td>0.01</td>\n",
       "      <td>...</td>\n",
       "      <td>False</td>\n",
       "      <td>True</td>\n",
       "      <td>total variation</td>\n",
       "      <td>True</td>\n",
       "      <td>True</td>\n",
       "      <td>False</td>\n",
       "      <td>False</td>\n",
       "      <td>True</td>\n",
       "      <td>False</td>\n",
       "      <td>False</td>\n",
       "    </tr>\n",
       "    <tr>\n",
       "      <th>4</th>\n",
       "      <td>GP_KCMC</td>\n",
       "      <td>real binary</td>\n",
       "      <td>ate_policy</td>\n",
       "      <td>667</td>\n",
       "      <td>0</td>\n",
       "      <td>0.134629</td>\n",
       "      <td>0.317654</td>\n",
       "      <td>50</td>\n",
       "      <td>1.41</td>\n",
       "      <td>0.01</td>\n",
       "      <td>...</td>\n",
       "      <td>False</td>\n",
       "      <td>True</td>\n",
       "      <td>total variation</td>\n",
       "      <td>True</td>\n",
       "      <td>True</td>\n",
       "      <td>False</td>\n",
       "      <td>False</td>\n",
       "      <td>True</td>\n",
       "      <td>False</td>\n",
       "      <td>False</td>\n",
       "    </tr>\n",
       "  </tbody>\n",
       "</table>\n",
       "<p>5 rows × 23 columns</p>\n",
       "</div>"
      ],
      "text/plain": [
       "  log_info    data_type policy_name  sample_size  seed  lower_bound  \\\n",
       "0  GP_KCMC  real binary  ate_policy          667     0     0.223965   \n",
       "1  GP_KCMC  real binary  ate_policy          667     0     0.194506   \n",
       "2  GP_KCMC  real binary  ate_policy          667     0     0.171056   \n",
       "3  GP_KCMC  real binary  ate_policy          667     0     0.151957   \n",
       "4  GP_KCMC  real binary  ate_policy          667     0     0.134629   \n",
       "\n",
       "   upper_bound   D  lambd  gamma  ...  hard_kernel_const  normalize_p_t  \\\n",
       "0     0.230142  50   1.01   0.01  ...              False           True   \n",
       "1     0.259271  50   1.11   0.01  ...              False           True   \n",
       "2     0.282348  50   1.21   0.01  ...              False           True   \n",
       "3     0.300862  50   1.31   0.01  ...              False           True   \n",
       "4     0.317654  50   1.41   0.01  ...              False           True   \n",
       "\n",
       "      f_divergence  hajek_const  kernel_const quantile_const  regressor_const  \\\n",
       "0  total variation         True          True          False            False   \n",
       "1  total variation         True          True          False            False   \n",
       "2  total variation         True          True          False            False   \n",
       "3  total variation         True          True          False            False   \n",
       "4  total variation         True          True          False            False   \n",
       "\n",
       "   tan_box_const  lr_box_const  f_const  \n",
       "0           True         False    False  \n",
       "1           True         False    False  \n",
       "2           True         False    False  \n",
       "3           True         False    False  \n",
       "4           True         False    False  \n",
       "\n",
       "[5 rows x 23 columns]"
      ]
     },
     "execution_count": 64,
     "metadata": {},
     "output_type": "execute_result"
    }
   ],
   "source": [
    "df.head()"
   ]
  },
  {
   "cell_type": "code",
   "execution_count": 65,
   "id": "77a5f740-4a2f-4d8a-b654-0408724f9da0",
   "metadata": {},
   "outputs": [],
   "source": [
    "# due to the numerical rounding, some of the original values are invalid indices\n",
    "grid_Gamma = df.Gamma.unique()  "
   ]
  },
  {
   "cell_type": "code",
   "execution_count": 66,
   "id": "cba50ef9-a2dd-4f98-8ed3-abee85debfcd",
   "metadata": {},
   "outputs": [],
   "source": [
    "df_grouped = df.groupby(by=['log_info', 'Gamma'])[['lower_bound', 'upper_bound']]\n",
    "values_mean = df_grouped.mean()\n",
    "values_std = df_grouped.std()"
   ]
  },
  {
   "cell_type": "code",
   "execution_count": 67,
   "id": "3c57c414-0ba7-4fee-b7f6-c691c28133b6",
   "metadata": {
    "tags": []
   },
   "outputs": [
    {
     "data": {
      "image/png": "[encoded data removed]",
      "text/plain": [
       "<Figure size 432x288 with 1 Axes>"
      ]
     },
     "metadata": {},
     "output_type": "display_data"
    }
   ],
   "source": [
    "colors = {method: tab10((0.5 + i) / 10) for i, method in enumerate(grid_methods.keys())}\n",
    "legend_targets = []\n",
    "legend_tags = [\"low-rank GP KCMC ($D=50$)\", \"low-rank hard KCMC ($D=50$)\", \"QB\", \"ZSB\"]\n",
    "\n",
    "for method_name in grid_methods.keys():\n",
    "    upper = np.array([values_mean.loc[(method_name, Gamma)]['upper_bound'] for Gamma in grid_Gamma])\n",
    "    lower = np.array([values_mean.loc[(method_name, Gamma)]['lower_bound'] for Gamma in grid_Gamma])\n",
    "    dupper = np.array([values_std.loc[(method_name, Gamma)]['upper_bound'] for Gamma in grid_Gamma])\n",
    "    dlower = np.array([values_std.loc[(method_name, Gamma)]['lower_bound'] for Gamma in grid_Gamma])\n",
    "    c = colors[method_name]\n",
    "    upper_line = plt.plot(grid_Gamma, upper, c=c)[0]\n",
    "    lower_line = plt.plot(grid_Gamma, lower, c=c)[0]\n",
    "    legend_targets.append((upper_line, lower_line))\n",
    "\n",
    "plt.legend(legend_targets, legend_tags, loc='upper left')\n",
    "plt.xlabel(r\"Sensitivity parameter $\\Gamma$\")\n",
    "plt.ylabel(r\"Upper/lower bounds of policy value\")\n",
    "plt.xlim([1.0, 2.0])\n",
    "plt.savefig('logs/policy_evaluation_real_binary_changing_Gamma.pdf')"
   ]
  },
  {
   "cell_type": "code",
   "execution_count": null,
   "id": "0ad87a1a-0bef-4667-9efe-ce3fb66e8459",
   "metadata": {},
   "outputs": [],
   "source": []
  }
 ],
 "metadata": {
  "kernelspec": {
   "display_name": "Python 3",
   "language": "python",
   "name": "python3"
  },
  "language_info": {
   "codemirror_mode": {
    "name": "ipython",
    "version": 3
   },
   "file_extension": ".py",
   "mimetype": "text/x-python",
   "name": "python",
   "nbconvert_exporter": "python",
   "pygments_lexer": "ipython3",
   "version": "3.8.10"
  }
 },
 "nbformat": 4,
 "nbformat_minor": 5
}
